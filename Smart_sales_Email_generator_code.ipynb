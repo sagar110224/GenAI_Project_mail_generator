{
 "cells": [
  {
   "cell_type": "code",
   "execution_count": 3,
   "metadata": {},
   "outputs": [],
   "source": [
    "from openai import OpenAI\n",
    "import openai\n",
    "from dotenv import load_dotenv\n",
    "import random\n",
    "import os\n",
    "import time\n",
    "import pandas as pd"
   ]
  },
  {
   "cell_type": "code",
   "execution_count": 4,
   "metadata": {},
   "outputs": [
    {
     "data": {
      "text/plain": [
       "True"
      ]
     },
     "execution_count": 4,
     "metadata": {},
     "output_type": "execute_result"
    }
   ],
   "source": [
    "load_dotenv()"
   ]
  },
  {
   "cell_type": "code",
   "execution_count": 47,
   "metadata": {},
   "outputs": [],
   "source": [
    "# client = OpenAI(\n",
    "#   api_key=\"OPEN-API-KEY\"\n",
    "# ) #Replace OPEN-API-KEY with your own API Key"
   ]
  },
  {
   "cell_type": "code",
   "execution_count": 5,
   "metadata": {},
   "outputs": [
    {
     "name": "stdout",
     "output_type": "stream",
     "text": [
      "Generate company profile completion msg: ChatCompletionMessage(content='**Company Profile: Bose Corporation**\\n\\n**Website:** [Bose APAC](https://www.boseapac.com/en_in/about_bose.html)\\n\\n**Overview:**\\nBose Corporation is a globally recognized leader in audio technology, renowned for its innovative sound solutions that enhance the listening experience. Founded in 1964 by Dr. Amar G. Bose, the company has built a reputation for quality, performance, and customer satisfaction. With a commitment to research and development, Bose continually pushes the boundaries of audio technology, offering a diverse range of products that cater to both consumer and professional markets.\\n\\n**Key Offerings:**\\n- **Consumer Audio Products:** Bose’s product lineup includes headphones, earbuds, soundbars, and home speaker systems, all designed to deliver superior sound quality and user experience. Their noise-cancelling headphones are particularly popular for their advanced technology and comfort.\\n- **Professional Audio Solutions:** Bose provides high-performance audio systems for various commercial applications, including public address systems, conference rooms, and entertainment venues. Their professional solutions are known for reliability and clarity.\\n- **Smart Home Integration:** Bose products seamlessly integrate with smart home systems, enhancing the user experience with voice control and connectivity features.\\n\\n**Market Position:**\\nBose maintains a strong presence in both the consumer electronics and professional audio markets. The brand is synonymous with high-quality audio and is trusted by millions of customers worldwide. Its commitment to innovation and excellence has positioned Bose as a leader in sound technology.\\n\\n**Core Values:**\\n- **Innovation:** Continuous investment in research and development to create cutting-edge audio products.\\n- **Quality:** A dedication to delivering products that meet the highest standards of performance and durability.\\n- **Customer Focus:** A strong emphasis on understanding and meeting customer needs, ensuring satisfaction and loyalty.\\n\\n**Target Audience:**\\nBose caters to a wide range of customers, including audiophiles, casual listeners, businesses, and professionals in various industries looking for reliable audio solutions.\\n\\n**Sales Outreach Opportunity:**\\nPartnering with Bose offers a unique opportunity to leverage a brand known for its quality and innovation. By promoting Bose products, you can provide your customers with access to top-tier audio technology that enhances their everyday experiences, whether for personal enjoyment or professional use.\\n\\n**Conclusion:**\\nBose Corporation stands out as a premier choice for audio solutions, driven by a passion for sound and a commitment to excellence. By aligning with Bose, you can offer your customers unparalleled audio experiences that resonate with their needs and preferences.', refusal=None, role='assistant', annotations=[], audio=None, function_call=None, tool_calls=None)\n",
      "Generate initial email completion msg: ChatCompletionMessage(content='Subject: Elevate Your Audio Experience with Bose\\n\\nHi Alice,\\n\\nI hope this message finds you well! My name is [Your Name], and I’m reaching out from Bose Corporation, a leader in audio technology known for our commitment to innovation and quality.\\n\\nAs a global technology company, Google continually sets the standard for excellence in internet-related services and products. At Bose, we believe that exceptional audio experiences can enhance the way users engage with technology, and we see a unique opportunity for collaboration between our brands.\\n\\nImagine integrating Bose’s award-winning audio solutions into Google’s offerings. Our noise-cancelling headphones and smart home speakers not only deliver superior sound quality but also seamlessly integrate with smart home systems, enhancing user experience through voice control and connectivity. This could elevate the value of your products, providing your customers with an unparalleled audio experience that complements their digital lifestyle.\\n\\nHere are a few ways we can work together:\\n\\n1. **Co-Branding Opportunities:** By featuring Bose audio products in your tech ecosystem, you can enhance the overall user experience, making your offerings even more attractive to consumers.\\n\\n2. **Exclusive Promotions:** We can collaborate on exclusive promotions or bundles that highlight the synergy between Google’s technology and Bose’s audio quality, driving sales and increasing brand loyalty.\\n\\n3. **Joint Marketing Initiatives:** Together, we can create compelling marketing campaigns that showcase how Bose audio solutions can enhance the functionality of Google products, reaching a wider audience and generating buzz.\\n\\nAt Bose, we are passionate about delivering high-quality audio experiences that resonate with users. I would love to discuss how we can partner to bring the best of both our brands to the market.\\n\\nWould you be available for a brief call next week to explore this opportunity further? I look forward to the possibility of working together to create something truly remarkable.\\n\\nBest regards,\\n\\n[Your Name]  \\n[Your Position]  \\nBose Corporation  \\n[Your Phone Number]  \\n[Your Email Address]  \\n[Your Company Website]  ', refusal=None, role='assistant', annotations=[], audio=None, function_call=None, tool_calls=None)\n",
      "Generate followup email completion msg: ChatCompletionMessage(content=\"Subject: Re: Elevate Your Audio Experience with Bose\\n\\nHi Alice,\\n\\nThank you for your prompt response and for directing me to your CTO. I appreciate your assistance in facilitating this connection.\\n\\nI will reach out to [CTO's Name] at cto@example.com to discuss potential collaboration opportunities between Bose and Google. I believe that by combining our strengths, we can create innovative audio solutions that enhance user experiences across your product offerings.\\n\\nIf there’s anything specific you think I should highlight in my conversation with [CTO's Name], please feel free to share. I’m looking forward to exploring how we can work together to elevate the audio experience for your customers.\\n\\nThank you once again for your support!\\n\\nBest regards,\\n\\n[Your Name]  \\n[Your Position]  \\nBose Corporation  \\n[Your Phone Number]  \\n[Your Email Address]  \\n[Your Company Website]  \", refusal=None, role='assistant', annotations=[], audio=None, function_call=None, tool_calls=None)\n",
      "Generate initial email completion msg: ChatCompletionMessage(content=\"Subject: Elevate Your Audio Offerings with Bose Partnership\\n\\nHi Josh,\\n\\nI hope this message finds you well! My name is [Your Name], and I’m reaching out on behalf of Bose Corporation, a global leader in audio technology renowned for our innovative sound solutions.\\n\\nAs Flipkart continues to enhance its diverse range of products, I believe there’s a unique opportunity for us to collaborate. With Bose’s commitment to quality and innovation, we can help elevate your audio offerings while providing your customers with an unparalleled listening experience.\\n\\n**Why Partner with Bose?**\\n\\n1. **Premium Product Lineup**: Our consumer audio products—including world-class headphones, earbuds, and soundbars—are designed to deliver exceptional sound quality and comfort. By featuring Bose products on Flipkart, you can attract audiophiles and casual listeners alike, enhancing your electronics category.\\n\\n2. **Trusted Brand Recognition**: Bose is synonymous with high-quality audio. Partnering with us means aligning Flipkart with a brand that millions trust, which can drive traffic and boost sales on your platform.\\n\\n3. **Innovative Technology**: Our noise-cancelling headphones and smart home integration capabilities are at the forefront of audio technology. By offering these products, you can provide your customers with cutting-edge solutions that meet their evolving needs.\\n\\n4. **Customer Satisfaction**: With a strong focus on understanding and meeting customer needs, Bose products are designed to ensure satisfaction and loyalty. This aligns perfectly with Flipkart’s commitment to delivering quality and value to your customers.\\n\\nI would love the opportunity to discuss how we can work together to promote Bose products on Flipkart, ultimately enhancing your customers' shopping experience and driving sales growth. \\n\\nWould you be available for a brief call next week? I’m eager to explore how we can create a mutually beneficial partnership.\\n\\nThank you for considering this opportunity, Josh. I look forward to your response!\\n\\nBest regards,\\n\\n[Your Name]  \\n[Your Position]  \\nBose Corporation  \\n[Your Phone Number]  \\n[Your Email Address]  \\n[Your LinkedIn Profile (optional)]  \", refusal=None, role='assistant', annotations=[], audio=None, function_call=None, tool_calls=None)\n",
      "Generate initial email completion msg: ChatCompletionMessage(content='Subject: Elevate Your Audio Experience with Bose Solutions\\n\\nDear Rajat,\\n\\nI hope this message finds you well. My name is [Your Name], and I am a Sales Representative at Bose Corporation. I’m reaching out to explore a potential partnership that could significantly enhance the audio experience at Larsen & Toubro.\\n\\nAs a leader in engineering and technology services, I understand that Larsen & Toubro values innovation and quality in every aspect of its operations. At Bose, we share this commitment and have been at the forefront of audio technology since 1964. Our diverse range of products, from high-performance sound systems to advanced noise-cancelling headphones, are designed to meet the needs of professionals like you who demand excellence.\\n\\n**Here’s how Bose can benefit Larsen & Toubro:**\\n\\n1. **Enhanced Communication:** Our professional audio solutions are perfect for conference rooms, public address systems, and large-scale events. Clear, reliable sound can improve collaboration and engagement among your teams and clients.\\n\\n2. **Smart Integration:** With the rise of smart technology in the workplace, our products seamlessly integrate with existing systems, providing a user-friendly experience that enhances productivity.\\n\\n3. **Quality and Reliability:** Just as Larsen & Toubro is known for its commitment to quality, Bose products are built to last, ensuring that your audio solutions are not just effective but also dependable.\\n\\n4. **Customer Satisfaction:** By incorporating Bose audio solutions into your projects, you can elevate the overall experience for your clients, reinforcing your reputation as a leader in quality and innovation.\\n\\nI would love the opportunity to discuss how we can align our offerings with your goals at Larsen & Toubro. Let’s schedule a time to connect and explore how Bose can add value to your operations.\\n\\nThank you for considering this opportunity. I look forward to your response.\\n\\nBest regards,\\n\\n[Your Name]  \\n[Your Position]  \\nBose Corporation  \\n[Your Phone Number]  \\n[Your Email]  \\n[Company Website]  ', refusal=None, role='assistant', annotations=[], audio=None, function_call=None, tool_calls=None)\n",
      "Generate followup email completion msg: ChatCompletionMessage(content='Subject: Re: Elevate Your Audio Experience with Bose Solutions\\n\\nDear Rajat,\\n\\nThank you for your prompt response and for scheduling a meeting next Thursday at 2 PM. I appreciate the opportunity to discuss how Bose can enhance the audio experience at Larsen & Toubro.\\n\\nI look forward to meeting with you and exploring how our innovative audio solutions can align with your goals. Please let me know if there are any specific topics or questions you would like to cover during our discussion.\\n\\nIf you need to adjust the meeting time or if there are any changes, feel free to reach out.\\n\\nThank you once again, and I look forward to our conversation!\\n\\nBest regards,\\n\\n[Your Name]  \\n[Your Position]  \\nBose Corporation  \\n[Your Phone Number]  \\n[Your Email]  \\n[Company Website]  \\n', refusal=None, role='assistant', annotations=[], audio=None, function_call=None, tool_calls=None)\n",
      "Output written to output_emails.csv\n"
     ]
    }
   ],
   "source": [
    "\n",
    "# Load prospect data\n",
    "def load_prospects(filename):\n",
    "    return pd.read_csv(filename)\n",
    "\n",
    "# Simulate fetching customer company profile\n",
    "def generate_company_profile(company_url):\n",
    "    prompt = f\"Analyze the website {company_url} and create a brief company profile suitable for sales outreach for promotion of products and services.\"\n",
    "    response = openai.chat.completions.create(\n",
    "        model=\"gpt-4o-mini\",\n",
    "        store=True,\n",
    "        messages=[\n",
    "            {\"role\": \"system\", \"content\": \"You are is a marketing professional.\"},\n",
    "            {\"role\": \"user\", \"content\": prompt}\n",
    "        ],\n",
    "        temperature=0.4\n",
    "    )\n",
    "    print(f\"Generate company profile completion msg: {response.choices[0].message}\")\n",
    "    return response.choices[0].message.content.strip()\n",
    "\n",
    "# Generate initial sales email\n",
    "def generate_initial_email(prospect, company_profile):\n",
    "    prompt = (\n",
    "        f\"The sender's company profile is: {company_profile}.\\n\"\n",
    "        f\"Write a cold outreach email to {prospect[\"Name\"]} at {prospect[\"Company\"]}.\\n\"\n",
    "        f\"Their business description is: {prospect[\"Description\"]}.\\n\"\n",
    "        f\"Their email id is {prospect[\"Email\"]}.\\n\"\n",
    "        f\"Write a persuasive sales email explaining how his company can benefit from the Sender's company in terms of promotion of his product or service.\\n\"\n",
    "        f\"The Email will be send by the sender to the prospect\"\n",
    "        f\"The Email will be directly sent the sender's company sales representative\"\n",
    "    )\n",
    "    response = openai.chat.completions.create(\n",
    "        model=\"gpt-4o-mini\",\n",
    "        store=True,\n",
    "        messages=[{\"role\": \"system\", \"content\": \"You are is a sales copywriting expert.\"},\n",
    "                  {\"role\": \"user\", \"content\": prompt}],\n",
    "        temperature=0.4\n",
    "    )\n",
    "    print(f\"Generate initial email completion msg: {response.choices[0].message}\")\n",
    "    return response.choices[0].message.content.strip()\n",
    "\n",
    "# Simulate prospect replies\n",
    "def simulate_prospect_reply():\n",
    "    replies = [\n",
    "        None,  # No reply\n",
    "        \"Thanks, but we're not looking for new tools right now.\",\n",
    "        \"Sounds interesting. Can you send more details?\",\n",
    "        \"Let's meet next Thursday at 2 PM.\",\n",
    "        \"Please contact our CTO at cto@example.com.\"\n",
    "    ]\n",
    "    return random.choice(replies)\n",
    "\n",
    "# Generate follow-up email based on simulated reply\n",
    "def generate_follow_up_email(initial_email,reply, company_profile,prospect):\n",
    "    if reply is None:\n",
    "        return None\n",
    "    prompt = (\n",
    "        f\"Initial Email sent was '{initial_email}'.\\n\"\n",
    "        f\"A prospect replied with: '{reply}'.\\n\"\n",
    "        f\"Write a professional follow-up email that acknowledges their message and moves the conversation forward.\\n\"\n",
    "        f\"Their email id is {prospect[\"Email\"]}.\\n\"\n",
    "        f\"The sender's company profile is: {company_profile}.\\n\"\n",
    "        f\"The Email will we sent by Sender as a reply Email to the prompt\"\n",
    "        f\"The Email will be directly sent the sender's company sales representative\"\n",
    "    )\n",
    "    response = openai.chat.completions.create(\n",
    "        model=\"gpt-4o-mini\",\n",
    "        messages=[{\"role\": \"system\", \"content\": \"You are is a professional B2B sales representative.\"},\n",
    "                  {\"role\": \"user\", \"content\": prompt}],\n",
    "        temperature=0.4\n",
    "    )\n",
    "    print(f\"Generate followup email completion msg: {response.choices[0].message}\")\n",
    "    return response.choices[0].message.content.strip()\n",
    "\n",
    "\n",
    "\n",
    "# Main function\n",
    "def process_prospects(input_csv, output_csv, customer_url):\n",
    "    df = load_prospects(input_csv)\n",
    "    company_profile = generate_company_profile(customer_url)\n",
    "    output_data = []\n",
    "\n",
    "    for _, prospect in df.iterrows():\n",
    "        initial_email = generate_initial_email(prospect, company_profile)\n",
    "        reply = simulate_prospect_reply()\n",
    "        follow_up_email = generate_follow_up_email(initial_email,reply, company_profile,prospect) \n",
    "        follow_up_status = reply if follow_up_email else \"No reply\"\n",
    "        output_data.append({\n",
    "        \"name\": prospect[\"Name\"],\n",
    "        \"company\": prospect[\"Company\"],\n",
    "        \"email\": prospect[\"Email\"],\n",
    "        \"initial_email\": initial_email,\n",
    "        \"follow_up_status\": follow_up_status,\n",
    "        \"follow_up_email\": follow_up_email \n",
    "            })\n",
    "        \n",
    "\n",
    "        # To avoid hitting rate limits\n",
    "        time.sleep(1)\n",
    "\n",
    "    output_df = pd.DataFrame(output_data)\n",
    "    output_df.to_csv(output_csv, index=False)\n",
    "    print(f\"Output written to {output_csv}\")\n",
    "\n",
    "# Example usage\n",
    "if __name__ == \"__main__\":\n",
    "    process_prospects(\"/Users/drago/Documents/Practicefiles/Data_files/prospects.csv\", \"output_emails.csv\", \"https://www.boseapac.com/en_in/about_bose.html\") #Taking bose as an example of customer company URL \n"
   ]
  }
 ],
 "metadata": {
  "kernelspec": {
   "display_name": "Python 3",
   "language": "python",
   "name": "python3"
  },
  "language_info": {
   "codemirror_mode": {
    "name": "ipython",
    "version": 3
   },
   "file_extension": ".py",
   "mimetype": "text/x-python",
   "name": "python",
   "nbconvert_exporter": "python",
   "pygments_lexer": "ipython3",
   "version": "3.13.2"
  }
 },
 "nbformat": 4,
 "nbformat_minor": 2
}
